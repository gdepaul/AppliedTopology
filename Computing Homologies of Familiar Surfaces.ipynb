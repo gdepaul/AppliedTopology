{
 "cells": [
  {
   "cell_type": "code",
   "execution_count": 1,
   "id": "6eca9d00",
   "metadata": {},
   "outputs": [],
   "source": [
    "T = simplicial_complexes.Torus()"
   ]
  },
  {
   "cell_type": "code",
   "execution_count": 2,
   "id": "2e83ee3b",
   "metadata": {},
   "outputs": [],
   "source": [
    "RP2 = simplicial_complexes.ProjectivePlane()"
   ]
  },
  {
   "cell_type": "code",
   "execution_count": 3,
   "id": "25029d37",
   "metadata": {},
   "outputs": [],
   "source": [
    "S = simplicial_complexes.RandomTwoSphere(6)"
   ]
  },
  {
   "cell_type": "code",
   "execution_count": 4,
   "id": "221ae14d",
   "metadata": {},
   "outputs": [],
   "source": [
    "K = simplicial_complexes.KleinBottle()"
   ]
  },
  {
   "cell_type": "code",
   "execution_count": 5,
   "id": "2bd7b66a",
   "metadata": {},
   "outputs": [
    {
     "data": {
      "text/plain": [
       "{0: Vector space of dimension 1 over Finite Field of size 2,\n",
       " 1: Vector space of dimension 2 over Finite Field of size 2,\n",
       " 2: Vector space of dimension 1 over Finite Field of size 2}"
      ]
     },
     "execution_count": 5,
     "metadata": {},
     "output_type": "execute_result"
    }
   ],
   "source": [
    "K.homology(base_ring=GF(2), reduced=False)"
   ]
  },
  {
   "cell_type": "code",
   "execution_count": 6,
   "id": "f521c612",
   "metadata": {},
   "outputs": [
    {
     "data": {
      "text/plain": [
       "{0: Vector space of dimension 1 over Finite Field of size 3,\n",
       " 1: Vector space of dimension 1 over Finite Field of size 3,\n",
       " 2: Vector space of dimension 0 over Finite Field of size 3}"
      ]
     },
     "execution_count": 6,
     "metadata": {},
     "output_type": "execute_result"
    }
   ],
   "source": [
    "K.homology(base_ring=GF(3), reduced=False)"
   ]
  },
  {
   "cell_type": "code",
   "execution_count": 13,
   "id": "bd6c2b89",
   "metadata": {},
   "outputs": [
    {
     "data": {
      "text/plain": [
       "{0: Z, 1: Z x C2, 2: 0}"
      ]
     },
     "execution_count": 13,
     "metadata": {},
     "output_type": "execute_result"
    }
   ],
   "source": [
    "K.homology(reduced=False)"
   ]
  },
  {
   "cell_type": "code",
   "execution_count": 7,
   "id": "ed5fc21c",
   "metadata": {},
   "outputs": [
    {
     "data": {
      "text/plain": [
       "{0: Vector space of dimension 1 over Finite Field of size 2,\n",
       " 1: Vector space of dimension 2 over Finite Field of size 2,\n",
       " 2: Vector space of dimension 1 over Finite Field of size 2}"
      ]
     },
     "execution_count": 7,
     "metadata": {},
     "output_type": "execute_result"
    }
   ],
   "source": [
    "T.homology(base_ring=GF(2), reduced=False)"
   ]
  },
  {
   "cell_type": "code",
   "execution_count": 8,
   "id": "8c6752ee",
   "metadata": {
    "scrolled": false
   },
   "outputs": [
    {
     "data": {
      "text/plain": [
       "{0: Vector space of dimension 1 over Finite Field of size 3,\n",
       " 1: Vector space of dimension 2 over Finite Field of size 3,\n",
       " 2: Vector space of dimension 1 over Finite Field of size 3}"
      ]
     },
     "execution_count": 8,
     "metadata": {},
     "output_type": "execute_result"
    }
   ],
   "source": [
    "T.homology(base_ring=GF(3), reduced=False)"
   ]
  },
  {
   "cell_type": "code",
   "execution_count": 14,
   "id": "0fe99ad0",
   "metadata": {},
   "outputs": [
    {
     "data": {
      "text/plain": [
       "{0: Z, 1: Z x Z, 2: Z}"
      ]
     },
     "execution_count": 14,
     "metadata": {},
     "output_type": "execute_result"
    }
   ],
   "source": [
    "T.homology(reduced=False)"
   ]
  },
  {
   "cell_type": "code",
   "execution_count": 9,
   "id": "9a9a0438",
   "metadata": {},
   "outputs": [
    {
     "data": {
      "text/plain": [
       "{0: Vector space of dimension 1 over Finite Field of size 2,\n",
       " 1: Vector space of dimension 1 over Finite Field of size 2,\n",
       " 2: Vector space of dimension 1 over Finite Field of size 2}"
      ]
     },
     "execution_count": 9,
     "metadata": {},
     "output_type": "execute_result"
    }
   ],
   "source": [
    "RP2.homology(base_ring=GF(2), reduced=False)"
   ]
  },
  {
   "cell_type": "code",
   "execution_count": 10,
   "id": "aaf1084c",
   "metadata": {},
   "outputs": [
    {
     "data": {
      "text/plain": [
       "{0: Vector space of dimension 1 over Finite Field of size 3,\n",
       " 1: Vector space of dimension 0 over Finite Field of size 3,\n",
       " 2: Vector space of dimension 0 over Finite Field of size 3}"
      ]
     },
     "execution_count": 10,
     "metadata": {},
     "output_type": "execute_result"
    }
   ],
   "source": [
    "RP2.homology(base_ring=GF(3), reduced=False)"
   ]
  },
  {
   "cell_type": "code",
   "execution_count": 15,
   "id": "dd0dfb3a",
   "metadata": {},
   "outputs": [
    {
     "data": {
      "text/plain": [
       "{0: Z, 1: C2, 2: 0}"
      ]
     },
     "execution_count": 15,
     "metadata": {},
     "output_type": "execute_result"
    }
   ],
   "source": [
    "RP2.homology(reduced=False)"
   ]
  },
  {
   "cell_type": "code",
   "execution_count": 11,
   "id": "0ba4357a",
   "metadata": {},
   "outputs": [
    {
     "data": {
      "text/plain": [
       "{0: Vector space of dimension 1 over Finite Field of size 2,\n",
       " 1: Vector space of dimension 0 over Finite Field of size 2,\n",
       " 2: Vector space of dimension 1 over Finite Field of size 2}"
      ]
     },
     "execution_count": 11,
     "metadata": {},
     "output_type": "execute_result"
    }
   ],
   "source": [
    "S.homology(base_ring=GF(2), reduced=False)"
   ]
  },
  {
   "cell_type": "code",
   "execution_count": 12,
   "id": "c3fceb49",
   "metadata": {},
   "outputs": [
    {
     "data": {
      "text/plain": [
       "{0: Vector space of dimension 1 over Finite Field of size 3,\n",
       " 1: Vector space of dimension 0 over Finite Field of size 3,\n",
       " 2: Vector space of dimension 1 over Finite Field of size 3}"
      ]
     },
     "execution_count": 12,
     "metadata": {},
     "output_type": "execute_result"
    }
   ],
   "source": [
    "S.homology(base_ring=GF(3), reduced=False)"
   ]
  },
  {
   "cell_type": "code",
   "execution_count": 16,
   "id": "3fea84e8",
   "metadata": {},
   "outputs": [
    {
     "data": {
      "text/plain": [
       "{0: Z, 1: 0, 2: Z}"
      ]
     },
     "execution_count": 16,
     "metadata": {},
     "output_type": "execute_result"
    }
   ],
   "source": [
    "S.homology(reduced=False)"
   ]
  }
 ],
 "metadata": {
  "kernelspec": {
   "display_name": "SageMath 10.0",
   "language": "sage",
   "name": "sagemath"
  },
  "language_info": {
   "codemirror_mode": {
    "name": "ipython",
    "version": 3
   },
   "file_extension": ".py",
   "mimetype": "text/x-python",
   "name": "python",
   "nbconvert_exporter": "python",
   "pygments_lexer": "ipython3",
   "version": "3.10.14"
  }
 },
 "nbformat": 4,
 "nbformat_minor": 5
}
